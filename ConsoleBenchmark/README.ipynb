{
 "cells": [
  {
   "cell_type": "code",
   "execution_count": null,
   "metadata": {
    "dotnet_interactive": {
     "language": "csharp"
    },
    "polyglot_notebook": {
     "kernelName": "csharp"
    },
    "vscode": {
     "languageId": "polyglot-notebook"
    }
   },
   "outputs": [],
   "source": [
    "#r \"nuget: BenchmarkDotNet, 0.13.9\"\n",
    "#r \"nuget: Microsoft.Playwright, 1.39.0\"\n",
    "#r \"nuget: NUlid, 1.7.1\"\n",
    "#r \"nuget: SixLabors.ImageSharp, 3.0.2\"\n",
    "#r \"nuget: SixLabors.ImageSharp.Drawing, 2.0.0\"\n",
    "#r \"bin/Release/net6.0/ConsoleBenchmark.dll\"\n",
    "\n",
    "using ConsoleBenchmark;"
   ]
  },
  {
   "cell_type": "code",
   "execution_count": null,
   "metadata": {
    "dotnet_interactive": {
     "language": "csharp"
    },
    "polyglot_notebook": {
     "kernelName": "csharp"
    },
    "vscode": {
     "languageId": "polyglot-notebook"
    }
   },
   "outputs": [],
   "source": [
    "var stopWatch = new System.Diagnostics.Stopwatch();\n",
    "await using (var fixture = await PlaywrightFixture.CreateAsync()){\n",
    "    stopWatch.Start();\n",
    "    var jsonElement = await fixture.Expression1JsonElementEvaluateAsync();\n",
    "    stopWatch.Stop();\n",
    "}\n",
    "Console.WriteLine($\"{nameof(PlaywrightFixture.Expression1JsonElementEvaluateAsync)}: {stopWatch.ElapsedMilliseconds}ms\");"
   ]
  },
  {
   "cell_type": "code",
   "execution_count": null,
   "metadata": {
    "dotnet_interactive": {
     "language": "csharp"
    },
    "polyglot_notebook": {
     "kernelName": "csharp"
    },
    "vscode": {
     "languageId": "polyglot-notebook"
    }
   },
   "outputs": [],
   "source": [
    "var stopWatch = new System.Diagnostics.Stopwatch();\n",
    "await using (var fixture = await PlaywrightFixture.CreateAsync()){\n",
    "    stopWatch.Start();\n",
    "    var gameState = await fixture.Expression2StringDeserializeEvaluateAsync();\n",
    "    stopWatch.Stop();\n",
    "}\n",
    "Console.WriteLine($\"{nameof(PlaywrightFixture.Expression2StringDeserializeEvaluateAsync)}: {stopWatch.ElapsedMilliseconds}ms\");"
   ]
  },
  {
   "cell_type": "code",
   "execution_count": null,
   "metadata": {
    "dotnet_interactive": {
     "language": "csharp"
    },
    "polyglot_notebook": {
     "kernelName": "csharp"
    },
    "vscode": {
     "languageId": "polyglot-notebook"
    }
   },
   "outputs": [],
   "source": [
    "var stopWatch = new System.Diagnostics.Stopwatch();\n",
    "await using (var fixture = await PlaywrightFixture.CreateAsync()){\n",
    "    stopWatch.Start();\n",
    "    var screenshotBytes = await fixture.ScreenshotBytesAsync();\n",
    "    var base64str = Convert.ToBase64String(screenshotBytes);\n",
    "    stopWatch.Stop();\n",
    "    display(Microsoft.DotNet.Interactive.Formatting.PocketViewTags.img[src: \"data:image/png;base64,\" + base64str]);\n",
    "}\n",
    "Console.WriteLine($\"{nameof(PlaywrightFixture.ScreenshotBytesAsync)}: {stopWatch.ElapsedMilliseconds}ms\");"
   ]
  },
  {
   "cell_type": "code",
   "execution_count": null,
   "metadata": {
    "dotnet_interactive": {
     "language": "csharp"
    },
    "polyglot_notebook": {
     "kernelName": "csharp"
    },
    "vscode": {
     "languageId": "polyglot-notebook"
    }
   },
   "outputs": [],
   "source": [
    "var stopWatch = new System.Diagnostics.Stopwatch();\n",
    "await using (var fixture = await PlaywrightFixture.CreateAsync()){\n",
    "    stopWatch.Start();\n",
    "    var screenshotBytes = await fixture.QuerySelectorAsyncScreenshotAsync();\n",
    "    var base64str = Convert.ToBase64String(screenshotBytes);\n",
    "    stopWatch.Stop();\n",
    "    display(Microsoft.DotNet.Interactive.Formatting.PocketViewTags.img[src: \"data:image/png;base64,\" + base64str]);\n",
    "}\n",
    "Console.WriteLine($\"{nameof(PlaywrightFixture.QuerySelectorAsyncScreenshotAsync)}: {stopWatch.ElapsedMilliseconds}ms\");"
   ]
  },
  {
   "cell_type": "code",
   "execution_count": null,
   "metadata": {
    "dotnet_interactive": {
     "language": "csharp"
    },
    "polyglot_notebook": {
     "kernelName": "csharp"
    },
    "vscode": {
     "languageId": "polyglot-notebook"
    }
   },
   "outputs": [],
   "source": [
    "var stopWatch = new System.Diagnostics.Stopwatch();\n",
    "await using (var fixture = await PlaywrightFixture.CreateAsync()){\n",
    "    stopWatch.Start();\n",
    "    var path = await fixture.ScreenshotSaveAsync();\n",
    "    stopWatch.Stop();\n",
    "    var screenshotBytes = await System.IO.File.ReadAllBytesAsync(path);\n",
    "    var base64str = Convert.ToBase64String(screenshotBytes);\n",
    "    display(path.Replace(System.IO.Directory.GetCurrentDirectory(), \".\"));\n",
    "    display(Microsoft.DotNet.Interactive.Formatting.PocketViewTags.img[src: \"data:image/png;base64,\" + base64str]);\n",
    "}\n",
    "Console.WriteLine($\"{nameof(PlaywrightFixture.ScreenshotSaveAsync)}: {stopWatch.ElapsedMilliseconds}ms\");"
   ]
  },
  {
   "cell_type": "code",
   "execution_count": null,
   "metadata": {
    "dotnet_interactive": {
     "language": "csharp"
    },
    "polyglot_notebook": {
     "kernelName": "csharp"
    },
    "vscode": {
     "languageId": "polyglot-notebook"
    }
   },
   "outputs": [],
   "source": [
    "using NUlid;\n",
    "\n",
    "Ulid newUlid = Ulid.NewUlid();\n",
    "Console.WriteLine(newUlid);"
   ]
  },
  {
   "cell_type": "code",
   "execution_count": null,
   "metadata": {
    "dotnet_interactive": {
     "language": "csharp"
    },
    "polyglot_notebook": {
     "kernelName": "csharp"
    },
    "vscode": {
     "languageId": "polyglot-notebook"
    }
   },
   "outputs": [],
   "source": [
    "using System;\n",
    "using System.IO;\n",
    "using System.Drawing;\n",
    "using System.Drawing.Imaging;\n",
    "using Microsoft.DotNet.Interactive.Formatting;\n",
    "\n",
    "MemoryStream memStream;\n",
    "Bitmap b = new Bitmap(50, 50);\n",
    "Graphics g = Graphics.FromImage(b);\n",
    "\n",
    "void d()\n",
    "{\n",
    "memStream = new MemoryStream();\n",
    "b.Save(memStream, ImageFormat.Png);\n",
    "string base64str = Convert.ToBase64String(memStream.ToArray());\n",
    "display(PocketViewTags.img[src: \"data:image/png;base64,\" + base64str]);\n",
    "}\n",
    "\n",
    "g.Clear(System.Drawing.Color.White);\n",
    "g.DrawLine(System.Drawing.Pens.Black, 0, 0, b.Width, b.Height);\n",
    "d();\n",
    "\n",
    "g.Clear(System.Drawing.Color.Black);\n",
    "g.DrawRectangle(System.Drawing.Pens.Blue, 5, 5, b.Width-10, b.Height-10);\n",
    "d();"
   ]
  },
  {
   "cell_type": "code",
   "execution_count": null,
   "metadata": {
    "dotnet_interactive": {
     "language": "csharp"
    },
    "polyglot_notebook": {
     "kernelName": "csharp"
    },
    "vscode": {
     "languageId": "polyglot-notebook"
    }
   },
   "outputs": [],
   "source": [
    "display(Microsoft.DotNet.Interactive.Formatting.PocketViewTags.iframe[src: \"https://www.youtube.com/embed/-1pVLJl_snc?si=b72ci--nGXhEGYy8&amp;start=163;\", width: 560, height: 315]);\n",
    "display(Microsoft.DotNet.Interactive.Formatting.PocketViewTags.iframe[src: \"http://www.youtube.com/embed/-1pVLJl_snc?si=b72ci--nGXhEGYy8&amp;start=163;\", width: 560, height: 315]);\n",
    "display(Microsoft.DotNet.Interactive.Formatting.PocketViewTags.iframe[src: \"https://www.youtube.com/embed/-1pVLJl_snc?si=b72ci--nGXhEGYy8&amp;start=163&amp;autoplay=1&amp;loop=1;\", width: 560, height: 315]);\n",
    "display(Microsoft.DotNet.Interactive.Formatting.PocketViewTags.iframe[src: \"http://www.youtube.com/embed/-1pVLJl_snc?si=b72ci--nGXhEGYy8&amp;start=163&amp;autoplay=1&amp;loop=1;\", width: 560, height: 315]);"
   ]
  },
  {
   "cell_type": "code",
   "execution_count": null,
   "metadata": {
    "dotnet_interactive": {
     "language": "csharp"
    },
    "polyglot_notebook": {
     "kernelName": "csharp"
    },
    "vscode": {
     "languageId": "polyglot-notebook"
    }
   },
   "outputs": [],
   "source": [
    "var stopWatch = new System.Diagnostics.Stopwatch();\n",
    "await using (var fixture = await PlaywrightFixture.CreateAsync()){\n",
    "    stopWatch.Start();\n",
    "    var path = await fixture.ScreenshotSaveAsync();\n",
    "    stopWatch.Stop();\n",
    "    display(Microsoft.DotNet.Interactive.Formatting.PocketViewTags.img[src: path.Replace(System.IO.Directory.GetCurrentDirectory(), \".\")]);\n",
    "}\n",
    "Console.WriteLine($\"{nameof(PlaywrightFixture.ScreenshotSaveAsync)}: {stopWatch.ElapsedMilliseconds}ms\");"
   ]
  },
  {
   "cell_type": "code",
   "execution_count": null,
   "metadata": {
    "dotnet_interactive": {
     "language": "csharp"
    },
    "polyglot_notebook": {
     "kernelName": "csharp"
    },
    "vscode": {
     "languageId": "polyglot-notebook"
    }
   },
   "outputs": [],
   "source": [
    "using NUlid;\n",
    "using System;\n",
    "using System.IO;\n",
    "using System.Drawing;\n",
    "using System.Drawing.Imaging;\n",
    "using Microsoft.DotNet.Interactive.Formatting;\n",
    "\n",
    "Bitmap b = new Bitmap(200, 200);\n",
    "Graphics g = Graphics.FromImage(b);\n",
    "\n",
    "void d()\n",
    "{\n",
    "    MemoryStream memStream = new MemoryStream();\n",
    "    b.Save(memStream, ImageFormat.Png);\n",
    "    string base64str = Convert.ToBase64String(memStream.ToArray());\n",
    "    display(PocketViewTags.img[src: \"data:image/png;base64,\" + base64str]);\n",
    "}\n",
    "\n",
    "Ulid newUlid = Ulid.NewUlid();\n",
    "Console.WriteLine(newUlid);\n",
    "\n",
    "// Clear canvas\n",
    "g.Clear(System.Drawing.Color.White);\n",
    "\n",
    "// Start drawing based on the ULID\n",
    "for (int i = 0; i < newUlid.ToString().Length; i++)\n",
    "{\n",
    "    char c = newUlid.ToString()[i];\n",
    "    int value = (int)c;\n",
    "\n",
    "    // Use value to set color\n",
    "    System.Drawing.Color color = System.Drawing.Color.FromArgb(value * 10 % 255, value * 5 % 255, value * 15 % 255);\n",
    "    using System.Drawing.Pen pen = new System.Drawing.Pen(color, 2);\n",
    "\n",
    "    // Draw some graphics\n",
    "    g.DrawEllipse(pen, value % b.Width, (value * 2) % b.Height, value % 50, value % 50);\n",
    "    g.DrawLine(pen, i * 15, value % b.Height, b.Width - i * 15, (value * 2) % b.Height);\n",
    "}\n",
    "\n",
    "d();\n"
   ]
  },
  {
   "cell_type": "code",
   "execution_count": null,
   "metadata": {
    "dotnet_interactive": {
     "language": "csharp"
    },
    "polyglot_notebook": {
     "kernelName": "csharp"
    },
    "vscode": {
     "languageId": "polyglot-notebook"
    }
   },
   "outputs": [],
   "source": [
    "using System;\n",
    "using System.Drawing;\n",
    "using SixLabors.ImageSharp.Drawing;\n",
    "using System.Collections.Generic;\n",
    "using SixLabors.ImageSharp;\n",
    "using SixLabors.ImageSharp.PixelFormats;\n",
    "using SixLabors.ImageSharp.Processing;\n",
    "using SixLabors.ImageSharp.Formats.Gif;\n",
    "using Microsoft.DotNet.Interactive.Formatting;\n",
    "using SixLabors.ImageSharp.Drawing.Processing;\n",
    "\n",
    "// Parameters\n",
    "int width = 100;\n",
    "int height = 100;\n",
    "int numberOfFrames = 10;\n",
    "int circleDiameter = 20;\n",
    "\n",
    "// Create individual frames\n",
    "Image<Rgba32>[] frames = new Image<Rgba32>[numberOfFrames];\n",
    "\n",
    "for (int i = 0; i < numberOfFrames; i++)\n",
    "{\n",
    "    var image = new Image<Rgba32>(width, height);\n",
    "    int positionX = i * (width - circleDiameter) / (numberOfFrames - 1);\n",
    "\n",
    "    image.Mutate(ctx => ctx.Fill(Rgba32.ParseHex(\"#333333\"))  // Background color\n",
    "                        .Fill(Rgba32.ParseHex(\"#df3079\"), new EllipsePolygon(positionX + circleDiameter / 2, height / 2, circleDiameter / 2)));  // Moving circle\n",
    "    \n",
    "    frames[i] = image;\n",
    "}\n",
    "\n",
    "// Create the GIF\n",
    "var outputImage = new Image<Rgba32>(width, height);\n",
    "for (int i = 0; i < numberOfFrames; i++)\n",
    "{\n",
    "    outputImage.Frames.AddFrame(frames[i].Frames.RootFrame);\n",
    "    outputImage.Frames[i].Metadata.GetFormatMetadata(GifFormat.Instance).FrameDelay = 100;  // 100ms delay = 10fps\n",
    "}\n",
    "\n",
    "// Convert to base64 for inlining\n",
    "using (var ms = new System.IO.MemoryStream()){    \n",
    "    outputImage.Metadata.GetFormatMetadata(GifFormat.Instance).RepeatCount = 0;\n",
    "    outputImage.Save(ms, new GifEncoder());\n",
    "    byte[] gifBytes = ms.ToArray();\n",
    "    string base64Gif = Convert.ToBase64String(gifBytes);\n",
    "    display(PocketViewTags.img[src: $\"data:image/gif;base64,{base64Gif}\"]);\n",
    "}"
   ]
  },
  {
   "cell_type": "code",
   "execution_count": null,
   "metadata": {
    "dotnet_interactive": {
     "language": "csharp"
    },
    "polyglot_notebook": {
     "kernelName": "csharp"
    },
    "vscode": {
     "languageId": "polyglot-notebook"
    }
   },
   "outputs": [],
   "source": [
    "using System;\n",
    "using System.Drawing;\n",
    "using SixLabors.ImageSharp.Drawing;\n",
    "using System.Collections.Generic;\n",
    "using SixLabors.ImageSharp;\n",
    "using SixLabors.ImageSharp.PixelFormats;\n",
    "using SixLabors.ImageSharp.Processing;\n",
    "using SixLabors.ImageSharp.Formats.Gif;\n",
    "using Microsoft.DotNet.Interactive.Formatting;\n",
    "using SixLabors.ImageSharp.Drawing.Processing;\n",
    "using SixLabors.Fonts;\n",
    "\n",
    "// Parameters\n",
    "int width = 100;\n",
    "int height = 100;\n",
    "int numberOfFrames = 26;  // Length of a ULID\n",
    "Dictionary<char, Rgba32> ulidColorMap = new Dictionary<char, Rgba32>\n",
    "{\n",
    "    // This is just a sample mapping. You can change colors as you see fit.\n",
    "    {'0', Rgba32.ParseHex(\"#df3079\")},\n",
    "    {'1', Rgba32.ParseHex(\"#2e95d3\")},\n",
    "    {'2', Rgba32.ParseHex(\"#00a67d\")},\n",
    "    //... Add other characters from ULID here with corresponding colors.\n",
    "};\n",
    "\n",
    "Ulid newUlid = Ulid.NewUlid();\n",
    "var ulidStr = newUlid.ToString();\n",
    "\n",
    "// Create individual frames\n",
    "Image<Rgba32>[] frames = new Image<Rgba32>[numberOfFrames];\n",
    "\n",
    "for (int i = 0; i < numberOfFrames; i++)\n",
    "{\n",
    "    var image = new Image<Rgba32>(width, height);\n",
    "    \n",
    "    if (i < ulidStr.Length && ulidColorMap.TryGetValue(ulidStr[i], out var color))\n",
    "    {\n",
    "        image.Mutate(ctx => ctx.Fill(color));  // Fill with color based on ULID's character\n",
    "    }\n",
    "    else\n",
    "    {\n",
    "        image.Mutate(ctx => ctx.Fill(Rgba32.ParseHex(\"#808080\")));  // Default color if ULID is shorter or character not mapped\n",
    "    }\n",
    "\n",
    "    frames[i] = image;\n",
    "}\n",
    "\n",
    "// Create the GIF\n",
    "var outputImage = new Image<Rgba32>(width, height);\n",
    "for (int i = 0; i < numberOfFrames; i++)\n",
    "{\n",
    "    outputImage.Frames.AddFrame(frames[i].Frames.RootFrame);\n",
    "    outputImage.Frames[i].Metadata.GetFormatMetadata(GifFormat.Instance).FrameDelay = 100;  // 100ms delay = 10fps\n",
    "}\n",
    "\n",
    "// Convert to base64 for inlining\n",
    "using (var ms = new System.IO.MemoryStream())\n",
    "{    \n",
    "    outputImage.Metadata.GetFormatMetadata(GifFormat.Instance).RepeatCount = 0;\n",
    "    outputImage.Save(ms, new GifEncoder());\n",
    "    byte[] gifBytes = ms.ToArray();\n",
    "    string base64Gif = Convert.ToBase64String(gifBytes);\n",
    "    display(PocketViewTags.img[src: $\"data:image/gif;base64,{base64Gif}\"]);\n",
    "}\n"
   ]
  },
  {
   "cell_type": "code",
   "execution_count": null,
   "metadata": {
    "dotnet_interactive": {
     "language": "csharp"
    },
    "polyglot_notebook": {
     "kernelName": "csharp"
    },
    "vscode": {
     "languageId": "polyglot-notebook"
    }
   },
   "outputs": [],
   "source": [
    "using System;\n",
    "using System.Drawing;\n",
    "using SixLabors.ImageSharp.Drawing;\n",
    "using System.Collections.Generic;\n",
    "using SixLabors.ImageSharp;\n",
    "using SixLabors.ImageSharp.PixelFormats;\n",
    "using SixLabors.ImageSharp.Processing;\n",
    "using SixLabors.ImageSharp.Formats.Gif;\n",
    "using Microsoft.DotNet.Interactive.Formatting;\n",
    "using SixLabors.ImageSharp.Drawing.Processing;\n",
    "\n",
    "// Parameters\n",
    "int width = 200;\n",
    "int height = 200;\n",
    "int numberOfFrames = 30;\n",
    "float frequency = 2.0f * (float)Math.PI / width;\n",
    "float amplitude = 50;\n",
    "\n",
    "// Create individual frames\n",
    "Image<Rgba32>[] frames = new Image<Rgba32>[numberOfFrames];\n",
    "\n",
    "for (int t = 0; t < numberOfFrames; t++)\n",
    "{\n",
    "    var image = new Image<Rgba32>(width, height);\n",
    "\n",
    "    image.Mutate(ctx => \n",
    "    {\n",
    "        ctx.Fill(Rgba32.ParseHex(\"#333333\"));  // Background color\n",
    "\n",
    "        SixLabors.ImageSharp.PointF[] points = new SixLabors.ImageSharp.PointF[width];\n",
    "        for (int x = 0; x < width; x++)\n",
    "        {\n",
    "            int y = (int)(height / 2 + amplitude * Math.Sin(frequency * x + ((float)t/numberOfFrames) * 2.0f * Math.PI));\n",
    "            points[x] = new SixLabors.ImageSharp.PointF(x, y);\n",
    "        }\n",
    "        ctx.DrawPolygon(Rgba32.ParseHex(\"#2e95d3\"), 2, points);\n",
    "    });\n",
    "    \n",
    "    frames[t] = image;\n",
    "}\n",
    "\n",
    "// Create the GIF\n",
    "var outputImage = new Image<Rgba32>(width, height);\n",
    "for (int i = 0; i < numberOfFrames; i++)\n",
    "{\n",
    "    outputImage.Frames.AddFrame(frames[i].Frames.RootFrame);\n",
    "    outputImage.Frames[i].Metadata.GetFormatMetadata(GifFormat.Instance).FrameDelay = 100;  // 100ms delay = 10fps\n",
    "}\n",
    "\n",
    "// Convert to base64 for inlining\n",
    "using (var ms = new System.IO.MemoryStream())\n",
    "{    \n",
    "    outputImage.Metadata.GetFormatMetadata(GifFormat.Instance).RepeatCount = 0;\n",
    "    outputImage.Save(ms, new GifEncoder());\n",
    "    byte[] gifBytes = ms.ToArray();\n",
    "    string base64Gif = Convert.ToBase64String(gifBytes);\n",
    "    display(PocketViewTags.img[src: $\"data:image/gif;base64,{base64Gif}\"]);\n",
    "}\n"
   ]
  },
  {
   "cell_type": "code",
   "execution_count": 1,
   "metadata": {
    "dotnet_interactive": {
     "language": "csharp"
    },
    "polyglot_notebook": {
     "kernelName": "csharp"
    },
    "vscode": {
     "languageId": "polyglot-notebook"
    }
   },
   "outputs": [
    {
     "data": {
      "text/plain": [
       "<script>alert('<script>alert('// vector 0')</script>')</script>"
      ]
     },
     "metadata": {},
     "output_type": "display_data"
    },
    {
     "data": {
      "text/html": [
       "<img src=\"nonexistent.gif\" onerror=\"console.error(&#39;// vector 1&#39;); alert(&#39;// vector 1&#39;);\"></img>"
      ]
     },
     "metadata": {},
     "output_type": "display_data"
    },
    {
     "data": {
      "text/html": [
       "<script value=\"&lt;script>alert(&#39;&lt;script>alert(&#39;&lt;script>alert(&#39;&lt;script>alert(&#39;// vector 2&#39;);console.error(&#39;// vector 2&#39;);&lt;/script>&#39;);&lt;/script>&#39;);&lt;/script>&#39;);&lt;/script>\"></script>"
      ]
     },
     "metadata": {},
     "output_type": "display_data"
    },
    {
     "data": {
      "text/html": [
       "<script alert('// vector 2');console.error('// vector 2');></script>"
      ]
     },
     "metadata": {},
     "output_type": "display_data"
    },
    {
     "data": {
      "text/html": [
       "<script alert('// vector 2');console.error('// vector 2');></script>"
      ]
     },
     "metadata": {},
     "output_type": "display_data"
    },
    {
     "data": {
      "text/html": [
       "<script <script>alert('<script>alert('<script>alert('<script>alert('// vector 2');console.error('// vector 2');</script>');</script>');</script>');</script>></script>"
      ]
     },
     "metadata": {},
     "output_type": "display_data"
    },
    {
     "data": {
      "text/html": [
       "<div></div>"
      ]
     },
     "metadata": {},
     "output_type": "display_data"
    },
    {
     "data": {
      "text/html": [
       "<a href=\"javascript:alert(&#39;// vector 4&#39;);\" innerHTML=\"vector 4\"></a>"
      ]
     },
     "metadata": {},
     "output_type": "display_data"
    },
    {
     "data": {
      "text/html": [
       "<a href=\"javascript:console.error(&#39;// vector 4&#39;);\" innerHTML=\"vector 4\"></a>"
      ]
     },
     "metadata": {},
     "output_type": "display_data"
    },
    {
     "data": {
      "text/html": [
       "<script eval(atob('YWxlcnQoJy8vIHZlY3RvciA1Jyk7Y29uc29sZS5lcnJvcignLy8gdmVjdG9yIDUnKTs='));></script>"
      ]
     },
     "metadata": {},
     "output_type": "display_data"
    },
    {
     "data": {
      "text/html": [
       "<script <script>eval(atob('YWxlcnQoJy8vIHZlY3RvciA1Jyk7Y29uc29sZS5lcnJvcignLy8gdmVjdG9yIDUnKTs='));</script>></script>"
      ]
     },
     "metadata": {},
     "output_type": "display_data"
    },
    {
     "data": {
      "text/html": [
       "<button onclick=\"alert(&quot;alert(&#39;// vector 6&#39;);console.error(&#39;// vector 6&#39;);&quot;);\" innerHTML=\"// vector 6\"></button>"
      ]
     },
     "metadata": {},
     "output_type": "display_data"
    },
    {
     "data": {
      "text/html": [
       "<button onclick=\"alert(&quot;alert(&#39;// vector 6&#39;);console.error(&#39;// vector 6&#39;);&quot;);\" name=\"vector 6\"></button>"
      ]
     },
     "metadata": {},
     "output_type": "display_data"
    },
    {
     "data": {
      "text/html": [
       "<button onclick=\"alert(&quot;alert(&#39;// vector 6&#39;);console.error(&#39;// vector 6&#39;);&quot;);\" value=\"vector 6\"></button>"
      ]
     },
     "metadata": {},
     "output_type": "display_data"
    },
    {
     "data": {
      "text/html": [
       "<div></div>"
      ]
     },
     "metadata": {},
     "output_type": "display_data"
    },
    {
     "data": {
      "text/html": [
       "<div></div>"
      ]
     },
     "metadata": {},
     "output_type": "display_data"
    },
    {
     "data": {
      "text/html": [
       "<iframe src=\"javascript:alert(&quot;// vector 7&quot;);\" width=\"560\" height=\"315\"></iframe>"
      ]
     },
     "metadata": {},
     "output_type": "display_data"
    },
    {
     "data": {
      "text/html": [
       "<iframe src=\"javascript:console.error(&quot;// vector 7&quot;);\" width=\"560\" height=\"315\"></iframe>"
      ]
     },
     "metadata": {},
     "output_type": "display_data"
    }
   ],
   "source": [
    "using Microsoft.DotNet.Interactive.Formatting;\n",
    "// vector 0\n",
    "display(\"<script>alert('<script>alert(\\'// vector 0\\')</script>')</script>\");\n",
    "// vector 1\n",
    "display(PocketViewTags.img[src: \"nonexistent.gif\", onerror: \"console.error('// vector 1'); alert('// vector 1');\"]);\n",
    "// vector 2\n",
    "display(PocketViewTags.script[value: \"<script>alert('<script>alert(\\'<script>alert(\\'<script>alert(\\'// vector 2\\');console.error(\\'// vector 2\\');</script>\\');</script>\\');</script>');</script>\"]);\n",
    "display(PocketViewTags.script[\"alert('// vector 2');console.error('// vector 2');\"]);\n",
    "display(PocketViewTags.script[\"alert(\\'// vector 2\\');console.error(\\'// vector 2\\');\"]);\n",
    "display(PocketViewTags.script[\"<script>alert('<script>alert(\\'<script>alert(\\'<script>alert(\\'// vector 2\\');console.error(\\'// vector 2\\');</script>\\');</script>\\');</script>');</script>\"]);\n",
    "// vector 3\n",
    "display(PocketViewTags.div[HTML(\"<svg onload='alert(\\\"// vector 3\\\");console.error(\\\"// vector 3\\\");'><rect width='100' height='100' style='fill:blue;'/></svg>\")]);\n",
    "// vector 4\n",
    "display(PocketViewTags.a[href: \"javascript:alert('// vector 4');\", innerHTML: \"vector 4\"]);\n",
    "display(PocketViewTags.a[href: \"javascript:console.error('// vector 4');\", innerHTML: \"vector 4\"]);\n",
    "// vector 5\n",
    "display(PocketViewTags.script[$\"eval(atob('{Convert.ToBase64String(System.Text.Encoding.UTF8.GetBytes(\"alert('// vector 5');console.error('// vector 5');\"))}'));\"]);\n",
    "display(PocketViewTags.script[$\"<script>eval(atob('{Convert.ToBase64String(System.Text.Encoding.UTF8.GetBytes(\"alert('// vector 5');console.error('// vector 5');\"))}'));</script>\"]);\n",
    "// vector 6\n",
    "display(PocketViewTags.button[onclick: \"alert(\\\"alert('// vector 6');console.error('// vector 6');\\\");\", innerHTML: \"// vector 6\"]);\n",
    "display(PocketViewTags.button[onclick: \"alert(\\\"alert('// vector 6');console.error('// vector 6');\\\");\", name: \"vector 6\"]);\n",
    "display(PocketViewTags.button[onclick: \"alert(\\\"alert('// vector 6');console.error('// vector 6');\\\");\", value: \"vector 6\"]);\n",
    "// vector 7\n",
    "display(PocketViewTags.div[HTML(\"<iframe src='javascript:alert(\\\"// vector 7\\\");'></iframe>\")]);\n",
    "display(PocketViewTags.div[HTML(\"<iframe src='javascript:console.error(\\\"// vector 7\\\");'></iframe>\")]);\n",
    "display(Microsoft.DotNet.Interactive.Formatting.PocketViewTags.iframe[src: \"javascript:alert(\\\"// vector 7\\\");\", width: 560, height: 315]);\n",
    "display(Microsoft.DotNet.Interactive.Formatting.PocketViewTags.iframe[src: \"javascript:console.error(\\\"// vector 7\\\");\", width: 560, height: 315]);\n",
    "// vector 8\n",
    "display(PocketViewTags.input[type: \"text\", onfocus: \"alert(\\\"alert('// vector 8');console.error('// vector 8');\\\");\", autofocus: \"true\", placeholder: \"// vector 8\"]);\n",
    "// vector 9\n",
    "display(PocketViewTags.iframe[src: \"data:text/html;base64,PHNjcmlwdD5hbGVydCgnLy8gdmVjdG9yIDknKTtjb25zb2xlLmVycm9yKCcvLyB2ZWN0b3IgOScpOzwvc2NyaXB0Pgo=\"]);\n",
    "display(PocketViewTags.iframe[src: \"data:text/html;base64,PHNjcmlwdD5hbGVydCgnLy8gdmVjdG9yIDknKTtjb25zb2xlLmVycm9yKCcvLyB2ZWN0b3IgOScpOzwvc2NyaXB0Pg==\"]);\n",
    "// vector 10\n",
    "display(PocketViewTags.div[style: \"background-image: url('javascript:alert(\\\"// vector 10\\\")');\"]);\n",
    "display(PocketViewTags.div[style: \"background-image: url('javascript:console.error(\\\"// vector 10\\\")');\"]);\n",
    "// vector 11\n",
    "display(PocketViewTags.img[src: \"data:image/svg+xml;base64,\" + Convert.ToBase64String(System.Text.Encoding.UTF8.GetBytes(\"<svg onload='alert(\\\"// vector 11\\\");console.error(\\\"// vector 11\\\");'><rect width='100' height='100' style='fill:blue;'/></svg>\"))]);\n",
    "// vector 12\n"
   ]
  },
  {
   "cell_type": "code",
   "execution_count": 13,
   "metadata": {
    "dotnet_interactive": {
     "language": "csharp"
    },
    "polyglot_notebook": {
     "kernelName": "csharp"
    },
    "vscode": {
     "languageId": "polyglot-notebook"
    }
   },
   "outputs": [
    {
     "data": {
      "text/html": [
       "<img src=\"data:image/svg+xml;base64,PHN2ZyBvbmxvYWQ9J2FsZXJ0KCIvLyB2ZWN0b3IgMTEiKTtjb25zb2xlLmVycm9yKCIvLyB2ZWN0b3IgMTEiKTsnPjxyZWN0IHdpZHRoPScxMDAnIGhlaWdodD0nMTAwJyBzdHlsZT0nZmlsbDpibHVlOycvPjwvc3ZnPg==\"></img>"
      ]
     },
     "metadata": {},
     "output_type": "display_data"
    }
   ],
   "source": [
    "using Microsoft.DotNet.Interactive.Formatting;\n",
    "// vector 11\n",
    "display(PocketViewTags.img[src: \"data:image/svg+xml;base64,\" + Convert.ToBase64String(System.Text.Encoding.UTF8.GetBytes(\"<svg onload='alert(\\\"// vector 11\\\");console.error(\\\"// vector 11\\\");'><rect width='100' height='100' style='fill:blue;'/></svg>\"))]);\n"
   ]
  }
 ],
 "metadata": {
  "kernelspec": {
   "display_name": ".NET (C#)",
   "language": "C#",
   "name": ".net-csharp"
  },
  "language_info": {
   "name": "python"
  },
  "polyglot_notebook": {
   "kernelInfo": {
    "defaultKernelName": "csharp",
    "items": [
     {
      "aliases": [],
      "name": "csharp"
     }
    ]
   }
  }
 },
 "nbformat": 4,
 "nbformat_minor": 2
}
