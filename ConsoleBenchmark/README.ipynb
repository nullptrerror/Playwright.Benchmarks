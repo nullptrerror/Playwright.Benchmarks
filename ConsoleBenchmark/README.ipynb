{
 "cells": [
  {
   "cell_type": "code",
   "execution_count": 1,
   "metadata": {
    "dotnet_interactive": {
     "language": "csharp"
    },
    "polyglot_notebook": {
     "kernelName": "csharp"
    },
    "vscode": {
     "languageId": "polyglot-notebook"
    }
   },
   "outputs": [
    {
     "data": {
      "text/html": [
       "<div><div></div><div></div><div><strong>Installed Packages</strong><ul><li><span>BenchmarkDotNet, 0.13.9</span></li><li><span>Microsoft.Playwright, 1.39.0</span></li></ul></div></div>"
      ]
     },
     "metadata": {},
     "output_type": "display_data"
    }
   ],
   "source": [
    "#r \"nuget: BenchmarkDotNet, 0.13.9\"\n",
    "#r \"nuget: Microsoft.Playwright, 1.39.0\"\n",
    "#r \"bin/Release/net6.0/ConsoleBenchmark.dll\"\n",
    "\n",
    "using ConsoleBenchmark;"
   ]
  },
  {
   "cell_type": "code",
   "execution_count": 20,
   "metadata": {
    "dotnet_interactive": {
     "language": "csharp"
    },
    "polyglot_notebook": {
     "kernelName": "csharp"
    },
    "vscode": {
     "languageId": "polyglot-notebook"
    }
   },
   "outputs": [
    {
     "name": "stdout",
     "output_type": "stream",
     "text": [
      "Expression1JsonElementEvaluateAsync: 6ms\r\n"
     ]
    }
   ],
   "source": [
    "var stopWatch = new System.Diagnostics.Stopwatch();\n",
    "await using (var fixture = await PlaywrightFixture.CreateAsync()){\n",
    "    stopWatch.Start();\n",
    "    var jsonElement = await fixture.Expression1JsonElementEvaluateAsync();\n",
    "    stopWatch.Stop();\n",
    "}\n",
    "Console.WriteLine($\"{nameof(PlaywrightFixture.Expression1JsonElementEvaluateAsync)}: {stopWatch.ElapsedMilliseconds}ms\");"
   ]
  },
  {
   "cell_type": "code",
   "execution_count": 21,
   "metadata": {
    "dotnet_interactive": {
     "language": "csharp"
    },
    "polyglot_notebook": {
     "kernelName": "csharp"
    },
    "vscode": {
     "languageId": "polyglot-notebook"
    }
   },
   "outputs": [
    {
     "name": "stdout",
     "output_type": "stream",
     "text": [
      "Expression2StringDeserializeEvaluateAsync: 6ms\r\n"
     ]
    }
   ],
   "source": [
    "var stopWatch = new System.Diagnostics.Stopwatch();\n",
    "await using (var fixture = await PlaywrightFixture.CreateAsync()){\n",
    "    stopWatch.Start();\n",
    "    var gameState = await fixture.Expression2StringDeserializeEvaluateAsync();\n",
    "    stopWatch.Stop();\n",
    "}\n",
    "Console.WriteLine($\"{nameof(PlaywrightFixture.Expression2StringDeserializeEvaluateAsync)}: {stopWatch.ElapsedMilliseconds}ms\");"
   ]
  },
  {
   "cell_type": "code",
   "execution_count": 3,
   "metadata": {
    "dotnet_interactive": {
     "language": "csharp"
    },
    "polyglot_notebook": {
     "kernelName": "csharp"
    },
    "vscode": {
     "languageId": "polyglot-notebook"
    }
   },
   "outputs": [
    {
     "name": "stdout",
     "output_type": "stream",
     "text": [
      "ScreenshotAsync: 243ms\r\n"
     ]
    }
   ],
   "source": [
    "var stopWatch = new System.Diagnostics.Stopwatch();\n",
    "await using (var fixture = await PlaywrightFixture.CreateAsync()){\n",
    "    stopWatch.Start();\n",
    "    var screenshot = await fixture.ScreenshotAsync();\n",
    "    stopWatch.Stop();\n",
    "}\n",
    "Console.WriteLine($\"{nameof(PlaywrightFixture.ScreenshotAsync)}: {stopWatch.ElapsedMilliseconds}ms\");"
   ]
  }
 ],
 "metadata": {
  "kernelspec": {
   "display_name": ".NET (C#)",
   "language": "C#",
   "name": ".net-csharp"
  },
  "language_info": {
   "name": "python"
  },
  "polyglot_notebook": {
   "kernelInfo": {
    "defaultKernelName": "csharp",
    "items": [
     {
      "aliases": [],
      "name": "csharp"
     }
    ]
   }
  }
 },
 "nbformat": 4,
 "nbformat_minor": 2
}
