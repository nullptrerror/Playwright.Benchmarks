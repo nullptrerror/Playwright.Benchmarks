{
 "cells": [
  {
   "cell_type": "code",
   "execution_count": 2,
   "metadata": {
    "dotnet_interactive": {
     "language": "csharp"
    },
    "polyglot_notebook": {
     "kernelName": "csharp"
    },
    "vscode": {
     "languageId": "polyglot-notebook"
    }
   },
   "outputs": [
    {
     "data": {
      "text/html": [
       "<div><div></div><div></div><div><strong>Installed Packages</strong><ul><li><span>BenchmarkDotNet, 0.13.9</span></li><li><span>Microsoft.Playwright, 1.39.0</span></li></ul></div></div>"
      ]
     },
     "metadata": {},
     "output_type": "display_data"
    }
   ],
   "source": [
    "#r \"nuget: BenchmarkDotNet, 0.13.9\"\n",
    "#r \"nuget: Microsoft.Playwright, 1.39.0\"\n",
    "\n",
    "using Microsoft.Playwright;\n",
    "using System.Text.Json.Serialization;\n",
    "using System.Text.Json;\n",
    "\n",
    "public sealed class PlaywrightFixture : IAsyncDisposable\n",
    "{\n",
    "    public readonly IPlaywright Playwright = null!;\n",
    "    public readonly IBrowser Browser = null!;\n",
    "    public readonly IBrowserContext Context = null!;\n",
    "    public readonly IPage Page = null!;\n",
    "    public readonly IResponse GotoFlappyBirdIOResponse = null!;\n",
    "    public PlaywrightFixture(IPlaywright playwright, IBrowser browser, IBrowserContext context, IPage page, IResponse gotoFlappyBirdIOResponse)\n",
    "    {\n",
    "        Playwright = playwright;\n",
    "        Browser = browser;\n",
    "        Context = context;\n",
    "        Page = page;\n",
    "        GotoFlappyBirdIOResponse = gotoFlappyBirdIOResponse;\n",
    "    }\n",
    "    public static async Task<PlaywrightFixture> CreateAsync(string url = ConsoleConstants.Urls.FlappyBirdIO)\n",
    "    {\n",
    "        var playwright = await Microsoft.Playwright.Playwright.CreateAsync();\n",
    "        var browser = await playwright.Chromium.LaunchAsync(ConsoleConstants.PlaywrightOptions.BrowserTypeLaunchOptions);\n",
    "        var context = await browser.NewContextAsync(ConsoleConstants.PlaywrightOptions.BrowserNewContextOptions);\n",
    "        var page = await context.NewPageAsync();\n",
    "        var gotoFlappyBirdIOResponse = await page.GotoAsync(url) ?? throw new System.Net.Http.HttpRequestException(url);\n",
    "\n",
    "        return new(playwright: playwright, // playwright,\n",
    "                   browser: browser, // browser,\n",
    "                   context: context, // context,\n",
    "                   page: page, // page,\n",
    "                   gotoFlappyBirdIOResponse: gotoFlappyBirdIOResponse); // gotoFlappyBirdIOResponse);\n",
    "    }\n",
    "    public async ValueTask DisposeAsync()\n",
    "    {\n",
    "        await Page.CloseAsync();\n",
    "        await Context.CloseAsync();\n",
    "        await Browser.CloseAsync();\n",
    "        Playwright.Dispose();\n",
    "    }\n",
    "    public async Task<JsonElement> Expression1JsonElementEvaluateAsync() => await Page.EvaluateAsync<JsonElement>(ConsoleConstants.GameStateConstants.GameStateJsObjectExpression);\n",
    "    public async Task<string> Expression2StringEvaluateAsync() => await Page.EvaluateAsync<string>(ConsoleConstants.GameStateConstants.GameStateJsStringExpression)!;\n",
    "    public async Task<GameState> Expression2StringDeserializeEvaluateAsync() => JsonSerializer.Deserialize<GameState>(await Page.EvaluateAsync<string>(ConsoleConstants.GameStateConstants.GameStateJsStringExpression), ConsoleConstants.PlaywrightOptions.QuickJsonSerializerOptions)!;\n",
    "    public async Task<GameState> Expression1JsonElementDeserializeEvaluateAsync()\n",
    "    {\n",
    "        JsonElement jsonElement = await Page.EvaluateAsync<JsonElement>(ConsoleConstants.GameStateConstants.GameStateJsObjectExpression);\n",
    "        bool wbp = false;\n",
    "        int wct = 0;\n",
    "        bool wd = false;\n",
    "        foreach (JsonProperty prop in jsonElement.EnumerateObject())\n",
    "        {\n",
    "            switch (prop.Name)\n",
    "            {\n",
    "                case ConsoleConstants.GameStateConstants.WBP:\n",
    "                    wbp = prop.Value.GetBoolean();\n",
    "                    break;\n",
    "                case ConsoleConstants.GameStateConstants.WCT:\n",
    "                    wct = prop.Value.GetInt32();\n",
    "                    break;\n",
    "                case ConsoleConstants.GameStateConstants.WD:\n",
    "                    wd = prop.Value.GetBoolean();\n",
    "                    break;\n",
    "            }\n",
    "        }\n",
    "        return new GameState(wbp, wct, wd);\n",
    "    }\n",
    "    public async Task<GameState> Expression1JsonElementGetPropertyDeserializeEvaluateAsync()\n",
    "    {\n",
    "        JsonElement jsonElement = await Page.EvaluateAsync<JsonElement>(ConsoleConstants.GameStateConstants.GameStateJsObjectExpression);\n",
    "        return new GameState(jsonElement.GetProperty(ConsoleConstants.GameStateConstants.WBP).GetBoolean(),\n",
    "            jsonElement.GetProperty(ConsoleConstants.GameStateConstants.WCT).GetInt32(),\n",
    "            jsonElement.GetProperty(ConsoleConstants.GameStateConstants.WD).GetBoolean());\n",
    "    }\n",
    "}\n",
    "public sealed class GameState\n",
    "{\n",
    "    [JsonPropertyName(ConsoleConstants.GameStateConstants.WBP)]\n",
    "    public bool WBP { get; private set; }\n",
    "\n",
    "    [JsonPropertyName(ConsoleConstants.GameStateConstants.WCT)]\n",
    "    public int WCT { get; private set; }\n",
    "    [JsonPropertyName(ConsoleConstants.GameStateConstants.WD)]\n",
    "    public bool WD { get; private set; }\n",
    "    [JsonConstructor]\n",
    "    public GameState(bool WBP, int WCT, bool WD)\n",
    "    {\n",
    "        this.WBP = WBP;\n",
    "        this.WCT = WCT;\n",
    "        this.WD = WD;\n",
    "    }\n",
    "}\n",
    "public sealed class ConsoleConstants\n",
    "{\n",
    "    public sealed class Urls\n",
    "    {\n",
    "        public const string FlappyBirdIO = \"https://flappybird.io/\";\n",
    "    }\n",
    "    public sealed class GameStateConstants\n",
    "    {\n",
    "        public const string WBP = nameof(WBP);\n",
    "        public const string WCT = nameof(WCT);\n",
    "        public const string WD = nameof(WD);\n",
    "        public const string GameStateJsObjectExpression = \"(()=>{return{WBP:window.bird.paused,WCT:window.counter.text,WD:window.dead};})()\";\n",
    "        public const string GameStateJsStringExpression = \"(()=>{return JSON.stringify({WBP: window.bird.paused,WCT: window.counter.text,WD: window.dead});})()\";\n",
    "    }\n",
    "    public sealed class PlaywrightOptions\n",
    "    {\n",
    "        public static readonly PageScreenshotOptions PageScreenshotOptions = new() { FullPage = true };\n",
    "        public static readonly BrowserTypeLaunchOptions BrowserTypeLaunchOptions = new() { Headless = false };\n",
    "        public static readonly BrowserNewContextOptions BrowserNewContextOptions = new() { ScreenSize = new() { Width = 1280, Height = 720 } };\n",
    "        public static readonly JsonSerializerOptions QuickJsonSerializerOptions = new()\n",
    "        {\n",
    "            PropertyNameCaseInsensitive = false, // Assuming our JSON property names always match the C# model\n",
    "            DefaultBufferSize = 512,             // Adjust based on typical JSON size\n",
    "            MaxDepth = 1                         // Adjust based on typical JSON structure depth\n",
    "        };\n",
    "    }\n",
    "}"
   ]
  },
  {
   "cell_type": "code",
   "execution_count": 3,
   "metadata": {
    "dotnet_interactive": {
     "language": "csharp"
    },
    "polyglot_notebook": {
     "kernelName": "csharp"
    },
    "vscode": {
     "languageId": "polyglot-notebook"
    }
   },
   "outputs": [
    {
     "name": "stdout",
     "output_type": "stream",
     "text": [
      "Expression1JsonElementEvaluateAsync: 17ms\r\n"
     ]
    }
   ],
   "source": [
    "var stopWatch = new System.Diagnostics.Stopwatch();\n",
    "await using (var fixture = await PlaywrightFixture.CreateAsync()){\n",
    "    stopWatch.Start();\n",
    "    var jsonElement = await fixture.Expression1JsonElementEvaluateAsync();\n",
    "    stopWatch.Stop();\n",
    "}\n",
    "Console.WriteLine($\"Expression1JsonElementEvaluateAsync: {stopWatch.ElapsedMilliseconds}ms\");"
   ]
  },
  {
   "cell_type": "code",
   "execution_count": null,
   "metadata": {
    "dotnet_interactive": {
     "language": "csharp"
    },
    "polyglot_notebook": {
     "kernelName": "csharp"
    },
    "vscode": {
     "languageId": "polyglot-notebook"
    }
   },
   "outputs": [],
   "source": []
  }
 ],
 "metadata": {
  "language_info": {
   "name": "python"
  }
 },
 "nbformat": 4,
 "nbformat_minor": 2
}
