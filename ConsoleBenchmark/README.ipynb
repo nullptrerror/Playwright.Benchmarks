{
 "cells": [
  {
   "cell_type": "code",
   "execution_count": null,
   "metadata": {
    "dotnet_interactive": {
     "language": "csharp"
    },
    "polyglot_notebook": {
     "kernelName": "csharp"
    },
    "vscode": {
     "languageId": "polyglot-notebook"
    }
   },
   "outputs": [],
   "source": [
    "#r \"nuget: BenchmarkDotNet, 0.13.9\"\n",
    "#r \"nuget: Microsoft.Playwright, 1.39.0\"\n",
    "#r \"nuget: NUlid, 1.7.1\"\n",
    "#r \"bin/Release/net6.0/ConsoleBenchmark.dll\"\n",
    "\n",
    "using ConsoleBenchmark;\n",
    "using NUlid;"
   ]
  },
  {
   "cell_type": "code",
   "execution_count": null,
   "metadata": {
    "dotnet_interactive": {
     "language": "csharp"
    },
    "polyglot_notebook": {
     "kernelName": "csharp"
    },
    "vscode": {
     "languageId": "polyglot-notebook"
    }
   },
   "outputs": [],
   "source": [
    "var stopWatch = new System.Diagnostics.Stopwatch();\n",
    "await using (var fixture = await PlaywrightFixture.CreateAsync()){\n",
    "    stopWatch.Start();\n",
    "    var jsonElement = await fixture.Expression1JsonElementEvaluateAsync();\n",
    "    stopWatch.Stop();\n",
    "}\n",
    "Console.WriteLine($\"{nameof(PlaywrightFixture.Expression1JsonElementEvaluateAsync)}: {stopWatch.ElapsedMilliseconds}ms\");"
   ]
  },
  {
   "cell_type": "code",
   "execution_count": null,
   "metadata": {
    "dotnet_interactive": {
     "language": "csharp"
    },
    "polyglot_notebook": {
     "kernelName": "csharp"
    },
    "vscode": {
     "languageId": "polyglot-notebook"
    }
   },
   "outputs": [],
   "source": [
    "var stopWatch = new System.Diagnostics.Stopwatch();\n",
    "await using (var fixture = await PlaywrightFixture.CreateAsync()){\n",
    "    stopWatch.Start();\n",
    "    var gameState = await fixture.Expression2StringDeserializeEvaluateAsync();\n",
    "    stopWatch.Stop();\n",
    "}\n",
    "Console.WriteLine($\"{nameof(PlaywrightFixture.Expression2StringDeserializeEvaluateAsync)}: {stopWatch.ElapsedMilliseconds}ms\");"
   ]
  },
  {
   "cell_type": "code",
   "execution_count": null,
   "metadata": {
    "dotnet_interactive": {
     "language": "csharp"
    },
    "polyglot_notebook": {
     "kernelName": "csharp"
    },
    "vscode": {
     "languageId": "polyglot-notebook"
    }
   },
   "outputs": [],
   "source": [
    "var stopWatch = new System.Diagnostics.Stopwatch();\n",
    "await using (var fixture = await PlaywrightFixture.CreateAsync()){\n",
    "    stopWatch.Start();\n",
    "    var screenshotBytes = await fixture.ScreenshotBytesAsync();\n",
    "    var base64str = Convert.ToBase64String(screenshotBytes);\n",
    "    stopWatch.Stop();\n",
    "    display(Microsoft.DotNet.Interactive.Formatting.PocketViewTags.img[src: \"data:image/png;base64,\" + base64str]);\n",
    "}\n",
    "Console.WriteLine($\"{nameof(PlaywrightFixture.ScreenshotBytesAsync)}: {stopWatch.ElapsedMilliseconds}ms\");"
   ]
  },
  {
   "cell_type": "code",
   "execution_count": null,
   "metadata": {
    "dotnet_interactive": {
     "language": "csharp"
    },
    "polyglot_notebook": {
     "kernelName": "csharp"
    },
    "vscode": {
     "languageId": "polyglot-notebook"
    }
   },
   "outputs": [],
   "source": [
    "var stopWatch = new System.Diagnostics.Stopwatch();\n",
    "await using (var fixture = await PlaywrightFixture.CreateAsync()){\n",
    "    stopWatch.Start();\n",
    "    var screenshotBytes = await fixture.QuerySelectorAsyncScreenshotAsync();\n",
    "    var base64str = Convert.ToBase64String(screenshotBytes);\n",
    "    stopWatch.Stop();\n",
    "    display(Microsoft.DotNet.Interactive.Formatting.PocketViewTags.img[src: \"data:image/png;base64,\" + base64str]);\n",
    "}\n",
    "Console.WriteLine($\"{nameof(PlaywrightFixture.QuerySelectorAsyncScreenshotAsync)}: {stopWatch.ElapsedMilliseconds}ms\");"
   ]
  },
  {
   "cell_type": "code",
   "execution_count": null,
   "metadata": {
    "dotnet_interactive": {
     "language": "csharp"
    },
    "polyglot_notebook": {
     "kernelName": "csharp"
    },
    "vscode": {
     "languageId": "polyglot-notebook"
    }
   },
   "outputs": [],
   "source": [
    "var stopWatch = new System.Diagnostics.Stopwatch();\n",
    "await using (var fixture = await PlaywrightFixture.CreateAsync()){\n",
    "    stopWatch.Start();\n",
    "    var path = await fixture.ScreenshotSaveAsync();\n",
    "    stopWatch.Stop();\n",
    "    var screenshotBytes = await System.IO.File.ReadAllBytesAsync(path);\n",
    "    var base64str = Convert.ToBase64String(screenshotBytes);\n",
    "    display(path);\n",
    "    display(Microsoft.DotNet.Interactive.Formatting.PocketViewTags.img[src: \"data:image/png;base64,\" + base64str]);\n",
    "}\n",
    "Console.WriteLine($\"{nameof(PlaywrightFixture.ScreenshotSaveAsync)}: {stopWatch.ElapsedMilliseconds}ms\");"
   ]
  },
  {
   "cell_type": "code",
   "execution_count": null,
   "metadata": {
    "dotnet_interactive": {
     "language": "csharp"
    },
    "polyglot_notebook": {
     "kernelName": "csharp"
    },
    "vscode": {
     "languageId": "polyglot-notebook"
    }
   },
   "outputs": [],
   "source": [
    "Ulid newUlid = Ulid.NewUlid();\n",
    "Console.WriteLine(newUlid);"
   ]
  },
  {
   "cell_type": "code",
   "execution_count": null,
   "metadata": {
    "dotnet_interactive": {
     "language": "csharp"
    },
    "polyglot_notebook": {
     "kernelName": "csharp"
    },
    "vscode": {
     "languageId": "polyglot-notebook"
    }
   },
   "outputs": [],
   "source": [
    "using System;\n",
    "using System.IO;\n",
    "using System.Drawing;\n",
    "using System.Drawing.Imaging;\n",
    "using Microsoft.DotNet.Interactive.Formatting;\n",
    "\n",
    "MemoryStream memStream;\n",
    "Bitmap b = new Bitmap(50, 50);\n",
    "Graphics g = Graphics.FromImage(b);\n",
    "\n",
    "void d()\n",
    "{\n",
    "memStream = new MemoryStream();\n",
    "b.Save(memStream, ImageFormat.Png);\n",
    "string base64str = Convert.ToBase64String(memStream.ToArray());\n",
    "display(PocketViewTags.img[src: \"data:image/png;base64,\" + base64str]);\n",
    "}\n",
    "\n",
    "g.Clear(Color.White);\n",
    "g.DrawLine(Pens.Black, 0, 0, b.Width, b.Height);\n",
    "d();\n",
    "\n",
    "g.Clear(Color.Black);\n",
    "g.DrawRectangle(Pens.Blue, 5, 5, b.Width-10, b.Height-10);\n",
    "d();"
   ]
  },
  {
   "cell_type": "code",
   "execution_count": null,
   "metadata": {
    "dotnet_interactive": {
     "language": "csharp"
    },
    "polyglot_notebook": {
     "kernelName": "csharp"
    },
    "vscode": {
     "languageId": "polyglot-notebook"
    }
   },
   "outputs": [],
   "source": [
    "display(Microsoft.DotNet.Interactive.Formatting.PocketViewTags.iframe[src: \"https://www.youtube.com/embed/-1pVLJl_snc?si=b72ci--nGXhEGYy8&amp;start=163\", width: 560, height: 315]);"
   ]
  },
  {
   "cell_type": "code",
   "execution_count": null,
   "metadata": {
    "dotnet_interactive": {
     "language": "csharp"
    },
    "polyglot_notebook": {
     "kernelName": "csharp"
    },
    "vscode": {
     "languageId": "polyglot-notebook"
    }
   },
   "outputs": [],
   "source": [
    "var stopWatch = new System.Diagnostics.Stopwatch();\n",
    "await using (var fixture = await PlaywrightFixture.CreateAsync()){\n",
    "    stopWatch.Start();\n",
    "    var path = await fixture.ScreenshotSaveAsync();\n",
    "    stopWatch.Stop();\n",
    "    display(Microsoft.DotNet.Interactive.Formatting.PocketViewTags.img[src: path.Replace(System.IO.Directory.GetCurrentDirectory(), \".\")]);\n",
    "}\n",
    "Console.WriteLine($\"{nameof(PlaywrightFixture.ScreenshotSaveAsync)}: {stopWatch.ElapsedMilliseconds}ms\");"
   ]
  },
  {
   "cell_type": "code",
   "execution_count": null,
   "metadata": {
    "dotnet_interactive": {
     "language": "csharp"
    },
    "polyglot_notebook": {
     "kernelName": "csharp"
    },
    "vscode": {
     "languageId": "polyglot-notebook"
    }
   },
   "outputs": [],
   "source": []
  }
 ],
 "metadata": {
  "kernelspec": {
   "display_name": ".NET (C#)",
   "language": "C#",
   "name": ".net-csharp"
  },
  "language_info": {
   "name": "python"
  },
  "polyglot_notebook": {
   "kernelInfo": {
    "defaultKernelName": "csharp",
    "items": [
     {
      "aliases": [],
      "name": "csharp"
     }
    ]
   }
  }
 },
 "nbformat": 4,
 "nbformat_minor": 2
}
